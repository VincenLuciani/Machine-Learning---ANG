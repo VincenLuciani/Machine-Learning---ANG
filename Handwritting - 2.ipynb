{
 "cells": [
  {
   "cell_type": "code",
   "execution_count": 2,
   "metadata": {},
   "outputs": [],
   "source": [
    "import numpy as np\n",
    "import pandas as pd\n",
    "import matplotlib as mpl\n",
    "import matplotlib.pyplot as plt\n",
    "from sklearn.datasets import fetch_openml\n",
    "mnist = fetch_openml('mnist_784', version=1)"
   ]
  },
  {
   "cell_type": "code",
   "execution_count": 16,
   "metadata": {},
   "outputs": [],
   "source": [
    "X, y = mnist[\"data\"], mnist[\"target\"]\n",
    "X_train, X_test, y_train, y_test = X[:5000], X[5000:], y[:5000], y [5000:]\n",
    "\n",
    "#sample definition\n",
    "\n",
    "y_train_0 = (y_train=='0')\n",
    "y_test_0 = (y_test=='0')\n",
    "\n",
    "y_train_1 = (y_train=='1')\n",
    "y_test_1 = (y_test=='1')\n",
    "\n",
    "y_train_2 = (y_train=='2')\n",
    "y_test_2 = (y_test=='2')\n",
    "\n",
    "y_train_3 = (y_train=='3')\n",
    "y_test_3 = (y_test=='3')\n",
    "\n",
    "y_train_4 = (y_train=='4')\n",
    "y_test_4 = (y_test=='4')\n",
    "\n",
    "y_train_5 = (y_train=='5')\n",
    "y_test_5 = (y_test=='5')\n",
    "\n",
    "y_train_6 = (y_train=='6')\n",
    "y_test_6 = (y_test=='6')\n",
    "\n",
    "y_train_7 = (y_train=='7')\n",
    "y_test_7 = (y_test=='7')\n",
    "\n",
    "y_train_8 = (y_train=='8')\n",
    "y_test_8 = (y_test=='8')\n",
    "\n",
    "y_train_9 = (y_train=='9')\n",
    "y_test_9 = (y_test=='9')"
   ]
  },
  {
   "cell_type": "code",
   "execution_count": 12,
   "metadata": {},
   "outputs": [],
   "source": [
    "from sklearn.linear_model import SGDClassifier"
   ]
  },
  {
   "cell_type": "code",
   "execution_count": 17,
   "metadata": {},
   "outputs": [
    {
     "data": {
      "text/plain": [
       "SGDClassifier(alpha=0.0001, average=False, class_weight=None,\n",
       "              early_stopping=False, epsilon=0.1, eta0=0.0, fit_intercept=True,\n",
       "              l1_ratio=0.15, learning_rate='optimal', loss='hinge',\n",
       "              max_iter=1000, n_iter_no_change=5, n_jobs=None, penalty='l2',\n",
       "              power_t=0.5, random_state=42, shuffle=True, tol=0.001,\n",
       "              validation_fraction=0.1, verbose=0, warm_start=False)"
      ]
     },
     "execution_count": 17,
     "metadata": {},
     "output_type": "execute_result"
    }
   ],
   "source": [
    "sgd_clf = SGDClassifier(random_state=42)\n",
    "sgd_clf.fit(X_train, y_train_5)"
   ]
  },
  {
   "cell_type": "code",
   "execution_count": 24,
   "metadata": {},
   "outputs": [
    {
     "data": {
      "text/plain": [
       "True"
      ]
     },
     "execution_count": 24,
     "metadata": {},
     "output_type": "execute_result"
    }
   ],
   "source": [
    "sgd_clf.predict(X_train)[11]"
   ]
  },
  {
   "cell_type": "code",
   "execution_count": null,
   "metadata": {},
   "outputs": [],
   "source": []
  }
 ],
 "metadata": {
  "kernelspec": {
   "display_name": "Python 3",
   "language": "python",
   "name": "python3"
  },
  "language_info": {
   "codemirror_mode": {
    "name": "ipython",
    "version": 3
   },
   "file_extension": ".py",
   "mimetype": "text/x-python",
   "name": "python",
   "nbconvert_exporter": "python",
   "pygments_lexer": "ipython3",
   "version": "3.7.6"
  }
 },
 "nbformat": 4,
 "nbformat_minor": 4
}
