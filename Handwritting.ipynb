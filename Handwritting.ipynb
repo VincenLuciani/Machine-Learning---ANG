{
 "cells": [
  {
   "cell_type": "code",
   "execution_count": 10,
   "metadata": {},
   "outputs": [
    {
     "name": "stdout",
     "output_type": "stream",
     "text": [
      "Collecting package metadata (current_repodata.json): done\n",
      "Solving environment: \\ \n",
      "The environment is inconsistent, please check the package plan carefully\n",
      "The following packages are causing the inconsistency:\n",
      "\n",
      "  - defaults/osx-64::matplotlib==3.1.3=py37_0\n",
      "  - defaults/osx-64::bokeh==1.4.0=py37_0\n",
      "  - defaults/osx-64::notebook==6.0.3=py37_0\n",
      "  - defaults/osx-64::jupyter==1.0.0=py37_7\n",
      "  - defaults/osx-64::spyder==4.0.1=py37_0\n",
      "  - defaults/osx-64::widgetsnbextension==3.5.1=py37_0\n",
      "  - defaults/noarch::jupyter_console==6.1.0=py_0\n",
      "  - defaults/noarch::ipywidgets==7.5.1=py_0\n",
      "  - defaults/osx-64::nbconvert==5.6.1=py37_0\n",
      "  - defaults/noarch::anaconda-project==0.8.4=py_0\n",
      "  - defaults/osx-64::anaconda-navigator==1.9.12=py37_0\n",
      "  - defaults/noarch::jupyterlab_server==1.0.6=py_0\n",
      "  - defaults/osx-64::matplotlib-base==3.1.3=py37h9aa3819_0\n",
      "  - defaults/osx-64::distributed==2.11.0=py37_0\n",
      "  - defaults/osx-64::scikit-image==0.16.2=py37h6c726b0_0\n",
      "  - defaults/osx-64::imageio==2.6.1=py37_0\n",
      "  - defaults/osx-64::jupyter_client==5.3.4=py37_0\n",
      "  - defaults/osx-64::anaconda-client==1.7.2=py37_0\n",
      "  - defaults/osx-64::_ipyw_jlab_nb_ext_conf==0.1.0=py37_0\n",
      "  - defaults/osx-64::spyder-kernels==1.8.1=py37_0\n",
      "  - defaults/noarch::qtconsole==4.6.0=py_1\n",
      "  - defaults/noarch::jupyterlab==1.2.6=pyhf63ae98_0\n",
      "  - defaults/noarch::numpydoc==0.9.2=py_0\n",
      "  - defaults/osx-64::anaconda==2020.02=py37_0\n",
      "  - defaults/noarch::dask==2.11.0=py_0\n",
      "  - defaults/osx-64::terminado==0.8.3=py37_0\n",
      "  - defaults/noarch::seaborn==0.10.0=py_0\n",
      "done\n",
      "\n",
      "## Package Plan ##\n",
      "\n",
      "  environment location: /Users/vincentluciani/opt/anaconda3\n",
      "\n",
      "  added / updated specs:\n",
      "    - scikit-learn\n",
      "\n",
      "\n",
      "The following packages will be downloaded:\n",
      "\n",
      "    package                    |            build\n",
      "    ---------------------------|-----------------\n",
      "    _anaconda_depends-2020.02  |           py37_0           6 KB\n",
      "    anaconda-custom            |           py37_1           3 KB\n",
      "    ca-certificates-2020.6.24  |                0         125 KB\n",
      "    certifi-2020.6.20          |           py37_0         156 KB\n",
      "    ipykernel-5.3.0            |   py37h5ca1d4c_0         179 KB\n",
      "    nbformat-5.0.7             |             py_0          89 KB\n",
      "    openssl-1.1.1g             |       h1de35cc_0         2.2 MB\n",
      "    pillow-7.1.2               |   py37h4655f20_0         569 KB\n",
      "    sphinx-3.1.1               |             py_0         1.1 MB\n",
      "    tornado-6.0.4              |   py37h1de35cc_1         597 KB\n",
      "    ------------------------------------------------------------\n",
      "                                           Total:         5.0 MB\n",
      "\n",
      "The following NEW packages will be INSTALLED:\n",
      "\n",
      "  _anaconda_depends  pkgs/main/osx-64::_anaconda_depends-2020.02-py37_0\n",
      "  ipykernel          pkgs/main/osx-64::ipykernel-5.3.0-py37h5ca1d4c_0\n",
      "  nbformat           pkgs/main/noarch::nbformat-5.0.7-py_0\n",
      "  pillow             pkgs/main/osx-64::pillow-7.1.2-py37h4655f20_0\n",
      "  sphinx             pkgs/main/noarch::sphinx-3.1.1-py_0\n",
      "  tornado            pkgs/main/osx-64::tornado-6.0.4-py37h1de35cc_1\n",
      "\n",
      "The following packages will be UPDATED:\n",
      "\n",
      "  ca-certificates                                2020.1.1-0 --> 2020.6.24-0\n",
      "  certifi                                 2019.11.28-py37_0 --> 2020.6.20-py37_0\n",
      "  openssl                                 1.1.1d-h1de35cc_4 --> 1.1.1g-h1de35cc_0\n",
      "\n",
      "The following packages will be DOWNGRADED:\n",
      "\n",
      "  anaconda                                   2020.02-py37_0 --> custom-py37_1\n",
      "\n",
      "\n",
      "\n",
      "Downloading and Extracting Packages\n",
      "_anaconda_depends-20 | 6 KB      | ##################################### | 100% \n",
      "ipykernel-5.3.0      | 179 KB    | ##################################### | 100% \n",
      "tornado-6.0.4        | 597 KB    | ##################################### | 100% \n",
      "nbformat-5.0.7       | 89 KB     | ##################################### | 100% \n",
      "anaconda-custom      | 3 KB      | ##################################### | 100% \n",
      "ca-certificates-2020 | 125 KB    | ##################################### | 100% \n",
      "openssl-1.1.1g       | 2.2 MB    | ##################################### | 100% \n",
      "certifi-2020.6.20    | 156 KB    | ##################################### | 100% \n",
      "sphinx-3.1.1         | 1.1 MB    | ##################################### | 100% \n",
      "pillow-7.1.2         | 569 KB    | ##################################### | 100% \n",
      "Preparing transaction: done\n",
      "Verifying transaction: done\n",
      "Executing transaction: done\n",
      "\n",
      "Note: you may need to restart the kernel to use updated packages.\n"
     ]
    }
   ],
   "source": [
    "conda install scikit-learn"
   ]
  },
  {
   "cell_type": "code",
   "execution_count": 17,
   "metadata": {},
   "outputs": [],
   "source": [
    "from sklearn.datasets import fetch_openml\n",
    "mnist = fetch_openml('mnist_784', version=1)"
   ]
  },
  {
   "cell_type": "code",
   "execution_count": 72,
   "metadata": {},
   "outputs": [],
   "source": [
    "X, y = mnist[\"data\"], mnist[\"target\"]"
   ]
  },
  {
   "cell_type": "code",
   "execution_count": 437,
   "metadata": {},
   "outputs": [],
   "source": [
    "import numpy as np\n",
    "import pandas as pd\n",
    "import matplotlib as mpl\n",
    "import matplotlib.pyplot as plt\n",
    "import math"
   ]
  },
  {
   "cell_type": "code",
   "execution_count": 864,
   "metadata": {},
   "outputs": [],
   "source": [
    "Carre=np.random.rand(1,280)\n",
    "for j in range (0,10): \n",
    "    Ligne = X[10*j].reshape(28,28)\n",
    "    for i in range (1,10): \n",
    "        Case = X[10*j+i].reshape(28,28)\n",
    "        Ligne =  np.concatenate((Ligne, Case), axis=1)\n",
    "    Carre = np.concatenate((Carre,Ligne), axis =0)"
   ]
  },
  {
   "cell_type": "code",
   "execution_count": 28,
   "metadata": {},
   "outputs": [
    {
     "data": {
      "image/png": "[encoded data removed]",
      "text/plain": [
       "<Figure size 432x288 with 1 Axes>"
      ]
     },
     "metadata": {
      "needs_background": "light"
     },
     "output_type": "display_data"
    }
   ],
   "source": [
    "plt.imshow(Carre,cmap=\"binary\")\n",
    "plt.show()"
   ]
  },
  {
   "cell_type": "code",
   "execution_count": 794,
   "metadata": {},
   "outputs": [],
   "source": [
    "X_train, X_test, y_train, y_test = X[:5000], X[5000:], y[:5000], y [5000:]\n",
    "\n",
    "#sample definition\n",
    "\n",
    "y_train_0 = (y_train=='0').reshape(5000,1)\n",
    "y_test_0 = (y_test=='0').reshape(65000,1)\n",
    "\n",
    "y_train_1 = (y_train=='1').reshape(5000,1)\n",
    "y_test_1 = (y_test=='1').reshape(65000,1)\n",
    "\n",
    "y_train_2 = (y_train=='2').reshape(5000,1)\n",
    "y_test_2 = (y_test=='2').reshape(65000,1)\n",
    "\n",
    "y_train_3 = (y_train=='3').reshape(5000,1)\n",
    "y_test_3 = (y_test=='3').reshape(65000,1)\n",
    "\n",
    "y_train_4 = (y_train=='4').reshape(5000,1)\n",
    "y_test_4 = (y_test=='4').reshape(65000,1)\n",
    "\n",
    "y_train_5 = (y_train=='5').reshape(5000,1)\n",
    "y_test_5 = (y_test=='5').reshape(65000,1)\n",
    "\n",
    "y_train_6 = (y_train=='6').reshape(5000,1)\n",
    "y_test_6 = (y_test=='6').reshape(65000,1)\n",
    "\n",
    "y_train_7 = (y_train=='7').reshape(5000,1)\n",
    "y_test_7 = (y_test=='7').reshape(65000,1)\n",
    "\n",
    "y_train_8 = (y_train=='8').reshape(5000,1)\n",
    "y_test_8 = (y_test=='8').reshape(65000,1)\n",
    "\n",
    "y_train_9 = (y_train=='9').reshape(5000,1)\n",
    "y_test_9 = (y_test=='9').reshape(65000,1)\n"
   ]
  },
  {
   "cell_type": "code",
   "execution_count": 438,
   "metadata": {},
   "outputs": [],
   "source": []
  },
  {
   "cell_type": "code",
   "execution_count": 812,
   "metadata": {},
   "outputs": [],
   "source": [
    "# fonction de cout\n",
    "\n",
    "def g (x): \n",
    "    return 1/(1+math.e**-x)\n",
    "\n",
    "def hyp (The,x): \n",
    "    return g(np.dot(x,The))\n",
    "\n",
    "def J (Thet,y): \n",
    "    np.seterr(divide = 'ignore') \n",
    "    C = np.random.rand(len(y),1)\n",
    "    hpx = g(np.dot(X_train,Thet))\n",
    "    \n",
    "    for i in range (len(y)): \n",
    "            if y[i] == 0:\n",
    "                C[i]= -np.log(1-hpx)[i]\n",
    "            if y[i] ==1:\n",
    "                C[i]= -np.log(hpx)[i]\n",
    "                \n",
    "    return np.sum(C)/len(y)"
   ]
  },
  {
   "cell_type": "code",
   "execution_count": 792,
   "metadata": {},
   "outputs": [],
   "source": [
    "def descente(U,v): \n",
    "    Alpha = 0.0001\n",
    "    iteration =50\n",
    "    C= np.random.rand(iteration,1)\n",
    "    Thet = np.random.randn(784,1)/100\n",
    "    np.seterr(divide = 'ignore')\n",
    "\n",
    "    for i in range (iteration):    \n",
    "        Thet = Thet - Alpha/len(v)*(np.transpose(U).dot(g(np.dot(U,Thet))-v))\n",
    "        C[i]= J(Thet,v)\n",
    "        \n",
    "    plt.plot(C)\n",
    "    return Thet"
   ]
  },
  {
   "cell_type": "code",
   "execution_count": 813,
   "metadata": {
    "scrolled": true
   },
   "outputs": [
    {
     "data": {
      "image/png": "[encoded data removed]",
      "text/plain": [
       "<Figure size 432x288 with 1 Axes>"
      ]
     },
     "metadata": {
      "needs_background": "light"
     },
     "output_type": "display_data"
    }
   ],
   "source": [
    "Theta0 = descente(X_train, y_train_0)\n",
    "Theta1 = descente(X_train, y_train_1)\n",
    "Theta2 = descente(X_train, y_train_2)\n",
    "Theta3 = descente(X_train, y_train_3)\n",
    "Theta4 = descente(X_train, y_train_4)\n",
    "Theta5 = descente(X_train, y_train_5)\n",
    "Theta6 = descente(X_train, y_train_6)\n",
    "Theta7 = descente(X_train, y_train_7)\n",
    "Theta8 = descente(X_train, y_train_8)\n",
    "Theta9 = descente(X_train, y_train_9)"
   ]
  },
  {
   "cell_type": "code",
   "execution_count": 820,
   "metadata": {},
   "outputs": [],
   "source": [
    "def accuracy(Thet,y): \n",
    "    print ((np.sum((y)&(hyp(Thet,y)>0.5))/np.sum(y)))"
   ]
  },
  {
   "cell_type": "code",
   "execution_count": 829,
   "metadata": {},
   "outputs": [
    {
     "ename": "TypeError",
     "evalue": "ufunc 'bitwise_and' not supported for the input types, and the inputs could not be safely coerced to any supported types according to the casting rule ''safe''",
     "output_type": "error",
     "traceback": [
      "\u001b[0;31m---------------------------------------------------------------------------\u001b[0m",
      "\u001b[0;31mTypeError\u001b[0m                                 Traceback (most recent call last)",
      "\u001b[0;32m<ipython-input-829-2287dacc711c>\u001b[0m in \u001b[0;36m<module>\u001b[0;34m\u001b[0m\n\u001b[0;32m----> 1\u001b[0;31m \u001b[0maccuracy\u001b[0m\u001b[0;34m(\u001b[0m\u001b[0mTheta0\u001b[0m\u001b[0;34m,\u001b[0m\u001b[0mX_train\u001b[0m\u001b[0;34m)\u001b[0m\u001b[0;34m\u001b[0m\u001b[0;34m\u001b[0m\u001b[0m\n\u001b[0m",
      "\u001b[0;32m<ipython-input-820-e5a01ed72170>\u001b[0m in \u001b[0;36maccuracy\u001b[0;34m(Thet, y)\u001b[0m\n\u001b[1;32m      1\u001b[0m \u001b[0;32mdef\u001b[0m \u001b[0maccuracy\u001b[0m\u001b[0;34m(\u001b[0m\u001b[0mThet\u001b[0m\u001b[0;34m,\u001b[0m\u001b[0my\u001b[0m\u001b[0;34m)\u001b[0m\u001b[0;34m:\u001b[0m\u001b[0;34m\u001b[0m\u001b[0;34m\u001b[0m\u001b[0m\n\u001b[0;32m----> 2\u001b[0;31m     \u001b[0mprint\u001b[0m \u001b[0;34m(\u001b[0m\u001b[0;34m(\u001b[0m\u001b[0mnp\u001b[0m\u001b[0;34m.\u001b[0m\u001b[0msum\u001b[0m\u001b[0;34m(\u001b[0m\u001b[0;34m(\u001b[0m\u001b[0my\u001b[0m\u001b[0;34m)\u001b[0m\u001b[0;34m&\u001b[0m\u001b[0;34m(\u001b[0m\u001b[0mhyp\u001b[0m\u001b[0;34m(\u001b[0m\u001b[0mThet\u001b[0m\u001b[0;34m,\u001b[0m\u001b[0my\u001b[0m\u001b[0;34m)\u001b[0m\u001b[0;34m>\u001b[0m\u001b[0;36m0.5\u001b[0m\u001b[0;34m)\u001b[0m\u001b[0;34m)\u001b[0m\u001b[0;34m/\u001b[0m\u001b[0mnp\u001b[0m\u001b[0;34m.\u001b[0m\u001b[0msum\u001b[0m\u001b[0;34m(\u001b[0m\u001b[0my\u001b[0m\u001b[0;34m)\u001b[0m\u001b[0;34m)\u001b[0m\u001b[0;34m)\u001b[0m\u001b[0;34m\u001b[0m\u001b[0;34m\u001b[0m\u001b[0m\n\u001b[0m",
      "\u001b[0;31mTypeError\u001b[0m: ufunc 'bitwise_and' not supported for the input types, and the inputs could not be safely coerced to any supported types according to the casting rule ''safe''"
     ]
    }
   ],
   "source": [
    "accuracy(Theta0,X_train)"
   ]
  },
  {
   "cell_type": "code",
   "execution_count": 834,
   "metadata": {},
   "outputs": [],
   "source": [
    "def Hp (x) : \n",
    "    hypo = np.concatenate((hyp(Theta0,x),hyp(Theta1,x), hyp(Theta2,x), hyp(Theta3,x),\n",
    "                         hyp(Theta4,x),hyp(Theta5,x),hyp(Theta6,x),hyp(Theta7,x),\n",
    "                        hyp(Theta8,x), hyp(Theta9,x)), axis=1)\n",
    "    blabla = pd.DataFrame(hypo, columns = ['0','1','2','3','4','5','6','7','8','9'])\n",
    "    return HYPO"
   ]
  },
  {
   "cell_type": "code",
   "execution_count": 861,
   "metadata": {},
   "outputs": [
    {
     "data": {
      "text/plain": [
       "0        7\n",
       "1        3\n",
       "2        9\n",
       "3        6\n",
       "4        1\n",
       "        ..\n",
       "64995    2\n",
       "64996    3\n",
       "64997    4\n",
       "64998    8\n",
       "64999    6\n",
       "Length: 65000, dtype: object"
      ]
     },
     "execution_count": 861,
     "metadata": {},
     "output_type": "execute_result"
    }
   ],
   "source": [
    "hypo = Hp(X_test).idxmax(axis = 1)\n",
    "hypo"
   ]
  },
  {
   "cell_type": "code",
   "execution_count": null,
   "metadata": {},
   "outputs": [],
   "source": []
  },
  {
   "cell_type": "code",
   "execution_count": 863,
   "metadata": {},
   "outputs": [
    {
     "data": {
      "text/plain": [
       "0.7972153846153847"
      ]
     },
     "execution_count": 863,
     "metadata": {},
     "output_type": "execute_result"
    }
   ],
   "source": [
    "np.sum(hypo==y_test)/len(y_test)"
   ]
  },
  {
   "cell_type": "code",
   "execution_count": 862,
   "metadata": {},
   "outputs": [
    {
     "data": {
      "text/html": [
       "<div>\n",
       "<style scoped>\n",
       "    .dataframe tbody tr th:only-of-type {\n",
       "        vertical-align: middle;\n",
       "    }\n",
       "\n",
       "    .dataframe tbody tr th {\n",
       "        vertical-align: top;\n",
       "    }\n",
       "\n",
       "    .dataframe thead th {\n",
       "        text-align: right;\n",
       "    }\n",
       "</style>\n",
       "<table border=\"1\" class=\"dataframe\">\n",
       "  <thead>\n",
       "    <tr style=\"text-align: right;\">\n",
       "      <th></th>\n",
       "      <th>0</th>\n",
       "      <th>1</th>\n",
       "      <th>2</th>\n",
       "      <th>3</th>\n",
       "      <th>4</th>\n",
       "      <th>5</th>\n",
       "      <th>6</th>\n",
       "      <th>7</th>\n",
       "      <th>8</th>\n",
       "      <th>9</th>\n",
       "    </tr>\n",
       "  </thead>\n",
       "  <tbody>\n",
       "    <tr>\n",
       "      <th>0</th>\n",
       "      <td>5.215599e-20</td>\n",
       "      <td>8.823911e-23</td>\n",
       "      <td>1.199619e-05</td>\n",
       "      <td>3.231702e-21</td>\n",
       "      <td>2.379314e-17</td>\n",
       "      <td>1.225814e-18</td>\n",
       "      <td>3.669645e-13</td>\n",
       "      <td>9.999998e-01</td>\n",
       "      <td>1.329761e-17</td>\n",
       "      <td>8.999224e-15</td>\n",
       "    </tr>\n",
       "    <tr>\n",
       "      <th>1</th>\n",
       "      <td>6.538387e-14</td>\n",
       "      <td>8.399359e-19</td>\n",
       "      <td>4.752281e-12</td>\n",
       "      <td>9.999913e-01</td>\n",
       "      <td>1.567827e-27</td>\n",
       "      <td>1.963249e-09</td>\n",
       "      <td>2.742595e-27</td>\n",
       "      <td>8.126774e-12</td>\n",
       "      <td>1.898295e-10</td>\n",
       "      <td>1.797132e-06</td>\n",
       "    </tr>\n",
       "    <tr>\n",
       "      <th>2</th>\n",
       "      <td>1.677137e-20</td>\n",
       "      <td>5.868088e-28</td>\n",
       "      <td>2.930863e-11</td>\n",
       "      <td>5.495202e-12</td>\n",
       "      <td>8.147868e-01</td>\n",
       "      <td>6.138177e-04</td>\n",
       "      <td>2.818851e-17</td>\n",
       "      <td>2.059747e-06</td>\n",
       "      <td>3.163554e-07</td>\n",
       "      <td>9.943779e-01</td>\n",
       "    </tr>\n",
       "    <tr>\n",
       "      <th>3</th>\n",
       "      <td>7.094100e-07</td>\n",
       "      <td>1.076676e-24</td>\n",
       "      <td>4.059872e-02</td>\n",
       "      <td>5.988612e-25</td>\n",
       "      <td>5.932108e-09</td>\n",
       "      <td>6.486911e-09</td>\n",
       "      <td>1.000000e+00</td>\n",
       "      <td>3.713176e-20</td>\n",
       "      <td>3.815708e-16</td>\n",
       "      <td>1.330176e-13</td>\n",
       "    </tr>\n",
       "    <tr>\n",
       "      <th>4</th>\n",
       "      <td>3.211483e-13</td>\n",
       "      <td>9.999999e-01</td>\n",
       "      <td>1.497676e-05</td>\n",
       "      <td>7.696024e-07</td>\n",
       "      <td>5.419192e-16</td>\n",
       "      <td>1.398843e-12</td>\n",
       "      <td>3.652993e-03</td>\n",
       "      <td>3.533819e-14</td>\n",
       "      <td>8.358122e-09</td>\n",
       "      <td>1.648971e-10</td>\n",
       "    </tr>\n",
       "    <tr>\n",
       "      <th>...</th>\n",
       "      <td>...</td>\n",
       "      <td>...</td>\n",
       "      <td>...</td>\n",
       "      <td>...</td>\n",
       "      <td>...</td>\n",
       "      <td>...</td>\n",
       "      <td>...</td>\n",
       "      <td>...</td>\n",
       "      <td>...</td>\n",
       "      <td>...</td>\n",
       "    </tr>\n",
       "    <tr>\n",
       "      <th>64995</th>\n",
       "      <td>6.284489e-24</td>\n",
       "      <td>8.186086e-19</td>\n",
       "      <td>9.999955e-01</td>\n",
       "      <td>9.066271e-12</td>\n",
       "      <td>2.971059e-32</td>\n",
       "      <td>3.207686e-21</td>\n",
       "      <td>1.394554e-24</td>\n",
       "      <td>6.436262e-16</td>\n",
       "      <td>2.691620e-15</td>\n",
       "      <td>3.337537e-37</td>\n",
       "    </tr>\n",
       "    <tr>\n",
       "      <th>64996</th>\n",
       "      <td>7.765121e-21</td>\n",
       "      <td>1.179924e-20</td>\n",
       "      <td>1.252209e-02</td>\n",
       "      <td>1.000000e+00</td>\n",
       "      <td>5.407765e-46</td>\n",
       "      <td>6.443851e-09</td>\n",
       "      <td>3.906563e-20</td>\n",
       "      <td>2.020490e-15</td>\n",
       "      <td>1.532305e-22</td>\n",
       "      <td>1.874276e-27</td>\n",
       "    </tr>\n",
       "    <tr>\n",
       "      <th>64997</th>\n",
       "      <td>1.675262e-23</td>\n",
       "      <td>2.134229e-30</td>\n",
       "      <td>3.261249e-16</td>\n",
       "      <td>1.914957e-11</td>\n",
       "      <td>9.983812e-01</td>\n",
       "      <td>1.855157e-09</td>\n",
       "      <td>7.837718e-21</td>\n",
       "      <td>5.026159e-14</td>\n",
       "      <td>2.752262e-12</td>\n",
       "      <td>6.890716e-09</td>\n",
       "    </tr>\n",
       "    <tr>\n",
       "      <th>64998</th>\n",
       "      <td>1.317626e-16</td>\n",
       "      <td>1.002672e-15</td>\n",
       "      <td>1.949170e-08</td>\n",
       "      <td>5.533166e-04</td>\n",
       "      <td>5.681615e-12</td>\n",
       "      <td>2.524030e-08</td>\n",
       "      <td>9.053323e-15</td>\n",
       "      <td>3.406009e-08</td>\n",
       "      <td>6.567645e-04</td>\n",
       "      <td>1.906854e-12</td>\n",
       "    </tr>\n",
       "    <tr>\n",
       "      <th>64999</th>\n",
       "      <td>6.129467e-13</td>\n",
       "      <td>4.221370e-47</td>\n",
       "      <td>6.110568e-14</td>\n",
       "      <td>1.220640e-33</td>\n",
       "      <td>7.208496e-18</td>\n",
       "      <td>1.800070e-15</td>\n",
       "      <td>1.000000e+00</td>\n",
       "      <td>1.273847e-30</td>\n",
       "      <td>4.071059e-26</td>\n",
       "      <td>4.676947e-25</td>\n",
       "    </tr>\n",
       "  </tbody>\n",
       "</table>\n",
       "<p>65000 rows × 10 columns</p>\n",
       "</div>"
      ],
      "text/plain": [
       "                  0             1             2             3             4  \\\n",
       "0      5.215599e-20  8.823911e-23  1.199619e-05  3.231702e-21  2.379314e-17   \n",
       "1      6.538387e-14  8.399359e-19  4.752281e-12  9.999913e-01  1.567827e-27   \n",
       "2      1.677137e-20  5.868088e-28  2.930863e-11  5.495202e-12  8.147868e-01   \n",
       "3      7.094100e-07  1.076676e-24  4.059872e-02  5.988612e-25  5.932108e-09   \n",
       "4      3.211483e-13  9.999999e-01  1.497676e-05  7.696024e-07  5.419192e-16   \n",
       "...             ...           ...           ...           ...           ...   \n",
       "64995  6.284489e-24  8.186086e-19  9.999955e-01  9.066271e-12  2.971059e-32   \n",
       "64996  7.765121e-21  1.179924e-20  1.252209e-02  1.000000e+00  5.407765e-46   \n",
       "64997  1.675262e-23  2.134229e-30  3.261249e-16  1.914957e-11  9.983812e-01   \n",
       "64998  1.317626e-16  1.002672e-15  1.949170e-08  5.533166e-04  5.681615e-12   \n",
       "64999  6.129467e-13  4.221370e-47  6.110568e-14  1.220640e-33  7.208496e-18   \n",
       "\n",
       "                  5             6             7             8             9  \n",
       "0      1.225814e-18  3.669645e-13  9.999998e-01  1.329761e-17  8.999224e-15  \n",
       "1      1.963249e-09  2.742595e-27  8.126774e-12  1.898295e-10  1.797132e-06  \n",
       "2      6.138177e-04  2.818851e-17  2.059747e-06  3.163554e-07  9.943779e-01  \n",
       "3      6.486911e-09  1.000000e+00  3.713176e-20  3.815708e-16  1.330176e-13  \n",
       "4      1.398843e-12  3.652993e-03  3.533819e-14  8.358122e-09  1.648971e-10  \n",
       "...             ...           ...           ...           ...           ...  \n",
       "64995  3.207686e-21  1.394554e-24  6.436262e-16  2.691620e-15  3.337537e-37  \n",
       "64996  6.443851e-09  3.906563e-20  2.020490e-15  1.532305e-22  1.874276e-27  \n",
       "64997  1.855157e-09  7.837718e-21  5.026159e-14  2.752262e-12  6.890716e-09  \n",
       "64998  2.524030e-08  9.053323e-15  3.406009e-08  6.567645e-04  1.906854e-12  \n",
       "64999  1.800070e-15  1.000000e+00  1.273847e-30  4.071059e-26  4.676947e-25  \n",
       "\n",
       "[65000 rows x 10 columns]"
      ]
     },
     "execution_count": 862,
     "metadata": {},
     "output_type": "execute_result"
    }
   ],
   "source": [
    "Hp (X_test)"
   ]
  },
  {
   "cell_type": "code",
   "execution_count": null,
   "metadata": {},
   "outputs": [],
   "source": []
  }
 ],
 "metadata": {
  "kernelspec": {
   "display_name": "Python 3",
   "language": "python",
   "name": "python3"
  },
  "language_info": {
   "codemirror_mode": {
    "name": "ipython",
    "version": 3
   },
   "file_extension": ".py",
   "mimetype": "text/x-python",
   "name": "python",
   "nbconvert_exporter": "python",
   "pygments_lexer": "ipython3",
   "version": "3.7.6"
  }
 },
 "nbformat": 4,
 "nbformat_minor": 2
}
