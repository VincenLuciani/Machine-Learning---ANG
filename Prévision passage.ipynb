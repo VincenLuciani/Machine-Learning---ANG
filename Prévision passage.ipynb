{
 "cells": [
  {
   "cell_type": "code",
   "execution_count": 67,
   "metadata": {},
   "outputs": [
    {
     "data": {
      "image/png": "[encoded data removed]",
      "text/plain": [
       "<Figure size 432x288 with 1 Axes>"
      ]
     },
     "metadata": {
      "needs_background": "light"
     },
     "output_type": "display_data"
    }
   ],
   "source": [
    "import numpy as np\n",
    "import matplotlib.pyplot as plt\n",
    "data = np.loadtxt(\"reussite_aux_examens\",delimiter=\",\",dtype=float )\n",
    "colors = {'0' : \"r\", '1' : \"c\"}\n",
    "\n",
    "for i in range (data.shape[0]): \n",
    "    plt.scatter(data[:,0][i],data[:,1][i], c = colors[str(int(data[:, 2][i]))])\n",
    "    plt.xlabel('premier')\n",
    "    plt.ylabel('deuxieme')\n",
    "    \n",
    "Abs = np.linspace(30,100,100)\n",
    "Y = -(ThetaG[1]*Abs+ThetaG[0]+ThetaG[3]*Abs**2)/ThetaG[2]\n",
    "plt.plot(Abs,Y,\"--\")\n",
    "plt.show()"
   ]
  },
  {
   "cell_type": "code",
   "execution_count": 77,
   "metadata": {},
   "outputs": [
    {
     "data": {
      "text/plain": [
       "array([ 30.        ,  30.70707071,  31.41414141,  32.12121212,\n",
       "        32.82828283,  33.53535354,  34.24242424,  34.94949495,\n",
       "        35.65656566,  36.36363636,  37.07070707,  37.77777778,\n",
       "        38.48484848,  39.19191919,  39.8989899 ,  40.60606061,\n",
       "        41.31313131,  42.02020202,  42.72727273,  43.43434343,\n",
       "        44.14141414,  44.84848485,  45.55555556,  46.26262626,\n",
       "        46.96969697,  47.67676768,  48.38383838,  49.09090909,\n",
       "        49.7979798 ,  50.50505051,  51.21212121,  51.91919192,\n",
       "        52.62626263,  53.33333333,  54.04040404,  54.74747475,\n",
       "        55.45454545,  56.16161616,  56.86868687,  57.57575758,\n",
       "        58.28282828,  58.98989899,  59.6969697 ,  60.4040404 ,\n",
       "        61.11111111,  61.81818182,  62.52525253,  63.23232323,\n",
       "        63.93939394,  64.64646465,  65.35353535,  66.06060606,\n",
       "        66.76767677,  67.47474747,  68.18181818,  68.88888889,\n",
       "        69.5959596 ,  70.3030303 ,  71.01010101,  71.71717172,\n",
       "        72.42424242,  73.13131313,  73.83838384,  74.54545455,\n",
       "        75.25252525,  75.95959596,  76.66666667,  77.37373737,\n",
       "        78.08080808,  78.78787879,  79.49494949,  80.2020202 ,\n",
       "        80.90909091,  81.61616162,  82.32323232,  83.03030303,\n",
       "        83.73737374,  84.44444444,  85.15151515,  85.85858586,\n",
       "        86.56565657,  87.27272727,  87.97979798,  88.68686869,\n",
       "        89.39393939,  90.1010101 ,  90.80808081,  91.51515152,\n",
       "        92.22222222,  92.92929293,  93.63636364,  94.34343434,\n",
       "        95.05050505,  95.75757576,  96.46464646,  97.17171717,\n",
       "        97.87878788,  98.58585859,  99.29292929, 100.        ])"
      ]
     },
     "execution_count": 77,
     "metadata": {},
     "output_type": "execute_result"
    }
   ],
   "source": [
    "Abs"
   ]
  },
  {
   "cell_type": "code",
   "execution_count": 37,
   "metadata": {},
   "outputs": [],
   "source": [
    "import math"
   ]
  },
  {
   "cell_type": "code",
   "execution_count": null,
   "metadata": {},
   "outputs": [],
   "source": []
  },
  {
   "cell_type": "code",
   "execution_count": 38,
   "metadata": {},
   "outputs": [],
   "source": [
    "def g (x): \n",
    "    return 1/(1+math.e**-x)"
   ]
  },
  {
   "cell_type": "code",
   "execution_count": 51,
   "metadata": {},
   "outputs": [
    {
     "data": {
      "text/plain": [
       "[<matplotlib.lines.Line2D at 0x1168e5610>]"
      ]
     },
     "execution_count": 51,
     "metadata": {},
     "output_type": "execute_result"
    },
    {
     "data": {
      "image/png": "[encoded data removed]",
      "text/plain": [
       "<Figure size 432x288 with 1 Axes>"
      ]
     },
     "metadata": {
      "needs_background": "light"
     },
     "output_type": "display_data"
    }
   ],
   "source": [
    "t = np.linspace(-10,10,200)\n",
    "plt.plot(t,g(t))"
   ]
  },
  {
   "cell_type": "code",
   "execution_count": null,
   "metadata": {},
   "outputs": [],
   "source": []
  },
  {
   "cell_type": "code",
   "execution_count": 58,
   "metadata": {},
   "outputs": [],
   "source": [
    "def J (h,y):\n",
    "    np.seterr(divide = 'ignore') \n",
    "    C = np.random.rand(100,1)\n",
    "    for i in range (100): \n",
    "            if y[i] == 0:\n",
    "                C[i]= -np.log(1-h)[i]\n",
    "            if y[i] ==1 :\n",
    "                C[i]= -np.log(h)[i]\n",
    "    return np.sum(C)/100"
   ]
  },
  {
   "cell_type": "code",
   "execution_count": 72,
   "metadata": {},
   "outputs": [],
   "source": [
    "X = np.random.rand(100,4)\n",
    "X1 = np.append(np.ones(np.shape(data)[0]).reshape(np.shape(data)[0],1),data[:,0:2],axis=1)\n",
    "y=data[:,2:3]\n",
    "h=g(np.dot(X,Theta))\n",
    "a=(data[:,0:1]-np.average(data[:,0:1]))/np.std(data[:,0:1])\n",
    "b=(data[:,1:2]-np.average(data[:,1:2]))/np.std(data[:,1:2])\n",
    "c=(data[:,0:1]**2-np.average(data[:,0:1]**2))/np.std(data[:,0:1]**2)\n",
    "X= np.append(np.append(np.append(np.ones(np.shape(data)[0]).reshape(np.shape(data)[0],1),a,axis=1),b,axis=1),c,axis=1)"
   ]
  },
  {
   "cell_type": "code",
   "execution_count": 74,
   "metadata": {},
   "outputs": [
    {
     "data": {
      "text/plain": [
       "(100, 4)"
      ]
     },
     "execution_count": 74,
     "metadata": {},
     "output_type": "execute_result"
    }
   ],
   "source": [
    "X.shape"
   ]
  },
  {
   "cell_type": "code",
   "execution_count": 64,
   "metadata": {},
   "outputs": [
    {
     "name": "stdout",
     "output_type": "stream",
     "text": [
      "[[  59.58280712]\n",
      " [ 584.6601588 ]\n",
      " [ 151.11305885]\n",
      " [-449.56828081]] 0.012261909985213237\n"
     ]
    }
   ],
   "source": [
    "Alpha = 150\n",
    "iteration =100000\n",
    "Theta= np.array([[-100,2,2,-100]]).reshape(4,1)\n",
    "np.seterr(divide = 'ignore')\n",
    "\n",
    "for i in range (iteration): \n",
    "    Theta = Theta - Alpha/100*np.transpose(X).dot(g(np.dot(X,Theta))-y)\n",
    "print(Theta,J(g(np.dot(X,Theta)),y))"
   ]
  },
  {
   "cell_type": "code",
   "execution_count": 65,
   "metadata": {},
   "outputs": [],
   "source": [
    "prediction = np.random.rand(100,1)\n",
    "for i in range (100): \n",
    "    if g(np.dot(X,Theta))[i] < 0.5:\n",
    "        prediction[i]=0\n",
    "    if g(np.dot(X,Theta))[i] >= 0.5:\n",
    "        prediction[i]=1"
   ]
  },
  {
   "cell_type": "code",
   "execution_count": 61,
   "metadata": {},
   "outputs": [
    {
     "data": {
      "text/plain": [
       "0.0"
      ]
     },
     "execution_count": 61,
     "metadata": {},
     "output_type": "execute_result"
    }
   ],
   "source": [
    "Erreur = np.sum((prediction-y)**2)/100\n",
    "Erreur*100"
   ]
  },
  {
   "cell_type": "code",
   "execution_count": 45,
   "metadata": {},
   "outputs": [
    {
     "data": {
      "text/plain": [
       "array([[0.99192813]])"
      ]
     },
     "execution_count": 45,
     "metadata": {},
     "output_type": "execute_result"
    }
   ],
   "source": [
    "etudiant = np.array([[1,45,85,45**2]])\n",
    "g(np.dot(etudiant,ThetaG))"
   ]
  },
  {
   "cell_type": "code",
   "execution_count": 126,
   "metadata": {},
   "outputs": [
    {
     "ename": "SyntaxError",
     "evalue": "invalid syntax (<ipython-input-126-90ad3b88d83b>, line 1)",
     "output_type": "error",
     "traceback": [
      "\u001b[0;36m  File \u001b[0;32m\"<ipython-input-126-90ad3b88d83b>\"\u001b[0;36m, line \u001b[0;32m1\u001b[0m\n\u001b[0;31m    ThetaG = np.array[]\u001b[0m\n\u001b[0m                      ^\u001b[0m\n\u001b[0;31mSyntaxError\u001b[0m\u001b[0;31m:\u001b[0m invalid syntax\n"
     ]
    }
   ],
   "source": []
  },
  {
   "cell_type": "code",
   "execution_count": 66,
   "metadata": {},
   "outputs": [],
   "source": [
    "ThetaG = np.random.rand(4,1)\n",
    "\n",
    "ThetaG[0]= Theta[0]-(Theta[1]*np.average(data[:,0:1])/np.std(data[:,0:1])\n",
    "    + Theta[2]*np.average(data[:,1:2])/np.std(data[:,1:2])\n",
    "    + Theta[3]*np.average(data[:,0:1]**2)/np.std(data[:,0:1]**2))\n",
    "ThetaG[1]=Theta[1]/np.std(data[:,0:1])\n",
    "ThetaG[2]=Theta[2]/np.std(data[:,1:2])\n",
    "ThetaG[3]=Theta[3]/np.std(data[:,0:1]**2)\n"
   ]
  },
  {
   "cell_type": "code",
   "execution_count": 75,
   "metadata": {},
   "outputs": [
    {
     "data": {
      "text/plain": [
       "(4, 1)"
      ]
     },
     "execution_count": 75,
     "metadata": {},
     "output_type": "execute_result"
    }
   ],
   "source": [
    "Theta.shape"
   ]
  },
  {
   "cell_type": "code",
   "execution_count": 76,
   "metadata": {},
   "outputs": [
    {
     "data": {
      "text/plain": [
       "(100, 4)"
      ]
     },
     "execution_count": 76,
     "metadata": {},
     "output_type": "execute_result"
    }
   ],
   "source": [
    "X.shape"
   ]
  }
 ],
 "metadata": {
  "kernelspec": {
   "display_name": "Python 3",
   "language": "python",
   "name": "python3"
  },
  "language_info": {
   "codemirror_mode": {
    "name": "ipython",
    "version": 3
   },
   "file_extension": ".py",
   "mimetype": "text/x-python",
   "name": "python",
   "nbconvert_exporter": "python",
   "pygments_lexer": "ipython3",
   "version": "3.7.6"
  }
 },
 "nbformat": 4,
 "nbformat_minor": 2
}
